{
  "nbformat": 4,
  "nbformat_minor": 0,
  "metadata": {
    "colab": {
      "provenance": []
    },
    "kernelspec": {
      "name": "python3",
      "display_name": "Python 3"
    },
    "language_info": {
      "name": "python"
    }
  },
  "cells": [
    {
      "cell_type": "code",
      "execution_count": null,
      "metadata": {
        "id": "K0BknuBefL30"
      },
      "outputs": [],
      "source": [
        "text_a = open(\"/content/pg74745.txt\").read()\n",
        "text_b= open(\"/content/pg74754.txt\").read()"
      ]
    },
    {
      "cell_type": "markdown",
      "source": [
        "# n-grams"
      ],
      "metadata": {
        "id": "L7He7dTfv0KM"
      }
    },
    {
      "cell_type": "code",
      "source": [
        "import nltk\n",
        "from nltk.util import ngrams"
      ],
      "metadata": {
        "id": "CouoJhprfvnL"
      },
      "execution_count": null,
      "outputs": []
    },
    {
      "cell_type": "code",
      "source": [
        "a_words=text_a.split()\n",
        "b_words=text_b.split()"
      ],
      "metadata": {
        "colab": {
          "base_uri": "https://localhost:8080/"
        },
        "id": "eR_gPB6jgEvF",
        "outputId": "b87e53ac-4c36-4d43-c641-eba65f83f81c"
      },
      "execution_count": null,
      "outputs": [
        {
          "output_type": "execute_result",
          "data": {
            "text/plain": [
              "['r', 'n', 'h', 'l', 'a']"
            ]
          },
          "metadata": {},
          "execution_count": 51
        }
      ]
    },
    {
      "cell_type": "code",
      "source": [
        "n_grams = list(ngrams(a_words,1,))\n",
        "n_grams[:10]"
      ],
      "metadata": {
        "colab": {
          "base_uri": "https://localhost:8080/"
        },
        "id": "YHvxfCklgJDO",
        "outputId": "6ca28ad9-7d29-4ef0-8da5-76e18e7be924"
      },
      "execution_count": null,
      "outputs": [
        {
          "output_type": "execute_result",
          "data": {
            "text/plain": [
              "[('\\ufeffThe',),\n",
              " ('Project',),\n",
              " ('Gutenberg',),\n",
              " ('eBook',),\n",
              " ('of',),\n",
              " ('The',),\n",
              " ('weary',),\n",
              " ('blues',),\n",
              " ('This',),\n",
              " ('ebook',)]"
            ]
          },
          "metadata": {},
          "execution_count": 61
        }
      ]
    },
    {
      "cell_type": "markdown",
      "source": [
        "# Markov Chain Using Markovify"
      ],
      "metadata": {
        "id": "C2USd-dOtwv8"
      }
    },
    {
      "cell_type": "code",
      "source": [
        "!pip install markovify"
      ],
      "metadata": {
        "colab": {
          "base_uri": "https://localhost:8080/"
        },
        "id": "bXR2tp2NiG5G",
        "outputId": "49a281fa-1380-46cf-f8fc-3fb0919be490"
      },
      "execution_count": null,
      "outputs": [
        {
          "output_type": "stream",
          "name": "stdout",
          "text": [
            "Collecting markovify\n",
            "  Downloading markovify-0.9.4.tar.gz (27 kB)\n",
            "  Preparing metadata (setup.py) ... \u001b[?25l\u001b[?25hdone\n",
            "Collecting unidecode (from markovify)\n",
            "  Downloading Unidecode-1.3.8-py3-none-any.whl.metadata (13 kB)\n",
            "Downloading Unidecode-1.3.8-py3-none-any.whl (235 kB)\n",
            "\u001b[2K   \u001b[90m━━━━━━━━━━━━━━━━━━━━━━━━━━━━━━━━━━━━━━━━\u001b[0m \u001b[32m235.5/235.5 kB\u001b[0m \u001b[31m18.0 MB/s\u001b[0m eta \u001b[36m0:00:00\u001b[0m\n",
            "\u001b[?25hBuilding wheels for collected packages: markovify\n",
            "  Building wheel for markovify (setup.py) ... \u001b[?25l\u001b[?25hdone\n",
            "  Created wheel for markovify: filename=markovify-0.9.4-py3-none-any.whl size=18607 sha256=4fb1f69777abf5e8168f8a19370ba3d133cb98520a0abea85c95aeebe5dbb2de\n",
            "  Stored in directory: /root/.cache/pip/wheels/ca/8c/c5/41413e24c484f883a100c63ca7b3b0362b7c6f6eb6d7c9cc7f\n",
            "Successfully built markovify\n",
            "Installing collected packages: unidecode, markovify\n",
            "Successfully installed markovify-0.9.4 unidecode-1.3.8\n"
          ]
        }
      ]
    },
    {
      "cell_type": "code",
      "source": [
        "import markovify"
      ],
      "metadata": {
        "id": "DO_Rmi5JnfdC"
      },
      "execution_count": null,
      "outputs": []
    },
    {
      "cell_type": "code",
      "source": [
        "generator = markovify.Text(text_a)"
      ],
      "metadata": {
        "id": "rFCR5vcCnm6e"
      },
      "execution_count": null,
      "outputs": []
    },
    {
      "cell_type": "code",
      "source": [
        "generator.make_sentence()"
      ],
      "metadata": {
        "colab": {
          "base_uri": "https://localhost:8080/",
          "height": 35
        },
        "id": "AqWnepzanvpO",
        "outputId": "06e8e91b-77f2-44ee-cb60-8b08e600dc04"
      },
      "execution_count": null,
      "outputs": [
        {
          "output_type": "execute_result",
          "data": {
            "text/plain": [
              "'YOUNG PROSTITUTE Her dark brown face Is like a balloon without air, I went on his own.'"
            ],
            "application/vnd.google.colaboratory.intrinsic+json": {
              "type": "string"
            }
          },
          "metadata": {},
          "execution_count": 41
        }
      ]
    },
    {
      "cell_type": "code",
      "source": [
        "generator_a.make_short_sentence(50,tries=100)"
      ],
      "metadata": {
        "colab": {
          "base_uri": "https://localhost:8080/",
          "height": 35
        },
        "id": "Jzj1xvj1n24R",
        "outputId": "4c51d782-9d90-4e58-9d04-afdb705cc9e8"
      },
      "execution_count": null,
      "outputs": [
        {
          "output_type": "execute_result",
          "data": {
            "text/plain": [
              "'Now like an exclusive mood; he says.'"
            ],
            "application/vnd.google.colaboratory.intrinsic+json": {
              "type": "string"
            }
          },
          "metadata": {},
          "execution_count": 42
        }
      ]
    },
    {
      "cell_type": "markdown",
      "source": [
        "### Changing the order"
      ],
      "metadata": {
        "id": "zL_ma7U7sUc7"
      }
    },
    {
      "cell_type": "code",
      "source": [
        "generator_a = markovify.Text(text_a,state_size=1)\n",
        "generator_a_ = markovify.Text(text_a,state_size=5)\n"
      ],
      "metadata": {
        "id": "azDPkUFCoERo"
      },
      "execution_count": null,
      "outputs": []
    },
    {
      "cell_type": "code",
      "source": [
        "generator_a.make_sentence(test_output=False)\n"
      ],
      "metadata": {
        "colab": {
          "base_uri": "https://localhost:8080/",
          "height": 35
        },
        "id": "N29IAd3lsdDS",
        "outputId": "f0bd84f9-4060-434a-ec58-7c4721e8645f"
      },
      "execution_count": null,
      "outputs": [
        {
          "output_type": "execute_result",
          "data": {
            "text/plain": [
              "'O Blues!'"
            ],
            "application/vnd.google.colaboratory.intrinsic+json": {
              "type": "string"
            }
          },
          "metadata": {},
          "execution_count": 38
        }
      ]
    },
    {
      "cell_type": "code",
      "source": [
        "generator_a_.make_sentence(test_output=False)"
      ],
      "metadata": {
        "colab": {
          "base_uri": "https://localhost:8080/",
          "height": 35
        },
        "id": "VFWcuzcvsdaS",
        "outputId": "4bc13fa7-09a0-4d74-ec81-6631d138b12a"
      },
      "execution_count": null,
      "outputs": [
        {
          "output_type": "execute_result",
          "data": {
            "text/plain": [
              "'Like a Wind-blown autumn flower That never lifts its head Again.'"
            ],
            "application/vnd.google.colaboratory.intrinsic+json": {
              "type": "string"
            }
          },
          "metadata": {},
          "execution_count": 39
        }
      ]
    },
    {
      "cell_type": "markdown",
      "source": [
        "### Combining the models"
      ],
      "metadata": {
        "id": "vIdM5IaOtDYu"
      }
    },
    {
      "cell_type": "code",
      "source": [
        "generator_a = markovify.Text(text_a)\n",
        "generator_b = markovify.Text(text_b)\n",
        "combo = markovify.combine([generator_a, generator_b], [0.5, 0.5])"
      ],
      "metadata": {
        "id": "72pwrX8Vsgw5"
      },
      "execution_count": null,
      "outputs": []
    },
    {
      "cell_type": "code",
      "source": [
        "print(combo.make_short_sentence(20,tries=100,test_output=False))"
      ],
      "metadata": {
        "colab": {
          "base_uri": "https://localhost:8080/"
        },
        "id": "0xzJBRWDwRQW",
        "outputId": "ea4f18f2-42ba-4e4a-b60a-06a0a088b332"
      },
      "execution_count": null,
      "outputs": [
        {
          "output_type": "stream",
          "name": "stdout",
          "text": [
            "Joy today!\n"
          ]
        }
      ]
    },
    {
      "cell_type": "markdown",
      "source": [],
      "metadata": {
        "id": "IxH6mK1owoMf"
      }
    },
    {
      "cell_type": "markdown",
      "source": [
        "### Generating single Sentance"
      ],
      "metadata": {
        "id": "eVeFufnuwrms"
      }
    },
    {
      "cell_type": "code",
      "source": [
        "combo.make_sentence()"
      ],
      "metadata": {
        "colab": {
          "base_uri": "https://localhost:8080/",
          "height": 35
        },
        "id": "pNVemdV5teL4",
        "outputId": "a6a0e5db-5ebd-4df7-8025-0f7026f3537a"
      },
      "execution_count": null,
      "outputs": [
        {
          "output_type": "execute_result",
          "data": {
            "text/plain": [
              "'Elizabeth had planned a specially entertaining afternoon and tell her, and saw that the glory of her horror and fright when she again cudgelled her brains.'"
            ],
            "application/vnd.google.colaboratory.intrinsic+json": {
              "type": "string"
            }
          },
          "metadata": {},
          "execution_count": 44
        }
      ]
    },
    {
      "cell_type": "markdown",
      "source": [
        "### Generating Multiple Sentances"
      ],
      "metadata": {
        "id": "h5cjYc9kwAP9"
      }
    },
    {
      "cell_type": "code",
      "source": [
        "for i in range(14):\n",
        "    print(combo.make_sentence())"
      ],
      "metadata": {
        "colab": {
          "base_uri": "https://localhost:8080/"
        },
        "id": "vtnrxGYFtf3j",
        "outputId": "20990adc-cc1f-4669-a43e-c1a0e0c5c820"
      },
      "execution_count": null,
      "outputs": [
        {
          "output_type": "stream",
          "name": "stdout",
          "text": [
            "So she walked away and gave a long time to find originality, doesn’t have to talk about.\n",
            "So peace was once more restored between Elizabeth and Betsy made her choice from the first.\n",
            "There’s nothing more to say; indeed, Elizabeth had allowed it.\n",
            "Not long after he had a romantic feeling that the more I am mighty glad of that.\n",
            "So, leaving Betsy to receive the work on the child’s hot cheek.\n",
            "I looked upon the Nile and raised the ladder, ran lightly up, and gathered up her mind that Elizabeth asked her mother’s attention.\n",
            "She figured in many a squabble, for Elizabeth to her white mull as being quite nice enough.\n",
            "However, they soon tired of having no party in anticipation did not think of one well assured of her capacity, which Dick said was as full of lies.\n",
            "Miss Jewett smiled when she came forth with alacrity, eager to have her back that you have just come from.\n",
            "She had mentioned the subject right now.\n",
            "Now I shall feel a maiden all forlorn to be the one who had come back upon him like a musical fool.\n",
            "She stood still once or twice he slipped a little easier for her powers.\n",
            "Well, we all have to do anything in order that Mrs. Hollins and Babs the other.\n",
            "BLACK PIERROT A BLACK PIERROT I work all day, Said Simple John, But Pierrot left Pierrette.\n"
          ]
        }
      ]
    },
    {
      "cell_type": "code",
      "source": [],
      "metadata": {
        "id": "D2g6YFAqt8bc"
      },
      "execution_count": null,
      "outputs": []
    }
  ]
}